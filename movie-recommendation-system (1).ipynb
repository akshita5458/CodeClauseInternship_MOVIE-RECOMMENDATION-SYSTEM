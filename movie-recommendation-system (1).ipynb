{
 "cells": [
  {
   "cell_type": "code",
   "execution_count": 1,
   "metadata": {
    "_cell_guid": "b1076dfc-b9ad-4769-8c92-a6c4dae69d19",
    "_uuid": "8f2839f25d086af736a60e9eeb907d3b93b6e0e5",
    "execution": {
     "iopub.execute_input": "2023-10-06T10:28:42.601338Z",
     "iopub.status.busy": "2023-10-06T10:28:42.600323Z",
     "iopub.status.idle": "2023-10-06T10:28:43.238300Z",
     "shell.execute_reply": "2023-10-06T10:28:43.237202Z",
     "shell.execute_reply.started": "2023-10-06T10:28:42.601299Z"
    }
   },
   "outputs": [
    {
     "name": "stdout",
     "output_type": "stream",
     "text": [
      "/kaggle/input/the-movies-dataset/ratings.csv\n",
      "/kaggle/input/the-movies-dataset/links_small.csv\n",
      "/kaggle/input/the-movies-dataset/credits.csv\n",
      "/kaggle/input/the-movies-dataset/keywords.csv\n",
      "/kaggle/input/the-movies-dataset/movies_metadata.csv\n",
      "/kaggle/input/the-movies-dataset/ratings_small.csv\n",
      "/kaggle/input/the-movies-dataset/links.csv\n"
     ]
    }
   ],
   "source": [
    "# This Python 3 environment comes with many helpful analytics libraries installed\n",
    "# It is defined by the kaggle/python Docker image: https://github.com/kaggle/docker-python\n",
    "# For example, here's several helpful packages to load\n",
    "\n",
    "import numpy as np # linear algebra\n",
    "import pandas as pd # data processing, CSV file I/O (e.g. pd.read_csv)\n",
    "\n",
    "# Input data files are available in the read-only \"../input/\" directory\n",
    "# For example, running this (by clicking run or pressing Shift+Enter) will list all files under the input directory\n",
    "\n",
    "import os\n",
    "for dirname, _, filenames in os.walk('/kaggle/input'):\n",
    "    for filename in filenames:\n",
    "        print(os.path.join(dirname, filename))\n",
    "\n",
    "# You can write up to 20GB to the current directory (/kaggle/working/) that gets preserved as output when you create a version using \"Save & Run All\" \n",
    "# You can also write temporary files to /kaggle/temp/, but they won't be saved outside of the current session"
   ]
  },
  {
   "cell_type": "markdown",
   "metadata": {},
   "source": [
    "## 1.IMPORTING DATA"
   ]
  },
  {
   "cell_type": "code",
   "execution_count": 2,
   "metadata": {
    "execution": {
     "iopub.execute_input": "2023-10-06T10:28:43.241309Z",
     "iopub.status.busy": "2023-10-06T10:28:43.240137Z",
     "iopub.status.idle": "2023-10-06T10:28:43.246596Z",
     "shell.execute_reply": "2023-10-06T10:28:43.245271Z",
     "shell.execute_reply.started": "2023-10-06T10:28:43.241271Z"
    }
   },
   "outputs": [],
   "source": [
    "import pandas as pd \n",
    "import numpy as np"
   ]
  },
  {
   "cell_type": "code",
   "execution_count": 4,
   "metadata": {
    "execution": {
     "iopub.execute_input": "2023-10-06T10:28:47.972144Z",
     "iopub.status.busy": "2023-10-06T10:28:47.971770Z",
     "iopub.status.idle": "2023-10-06T10:28:49.198822Z",
     "shell.execute_reply": "2023-10-06T10:28:49.197550Z",
     "shell.execute_reply.started": "2023-10-06T10:28:47.972118Z"
    }
   },
   "outputs": [
    {
     "name": "stderr",
     "output_type": "stream",
     "text": [
      "/tmp/ipykernel_32/2350043712.py:1: DtypeWarning: Columns (10) have mixed types. Specify dtype option on import or set low_memory=False.\n",
      "  meta = pd.read_csv('/kaggle/input/the-movies-dataset/movies_metadata.csv')\n"
     ]
    }
   ],
   "source": [
    "meta = pd.read_csv('/kaggle/input/the-movies-dataset/movies_metadata.csv')"
   ]
  },
  {
   "cell_type": "code",
   "execution_count": 5,
   "metadata": {
    "execution": {
     "iopub.execute_input": "2023-10-06T10:28:49.200129Z",
     "iopub.status.busy": "2023-10-06T10:28:49.199845Z",
     "iopub.status.idle": "2023-10-06T10:28:49.247808Z",
     "shell.execute_reply": "2023-10-06T10:28:49.246769Z",
     "shell.execute_reply.started": "2023-10-06T10:28:49.200105Z"
    }
   },
   "outputs": [
    {
     "data": {
      "text/plain": [
       "year\n",
       "1874.0       1\n",
       "1878.0       1\n",
       "1883.0       1\n",
       "1887.0       1\n",
       "1888.0       2\n",
       "          ... \n",
       "2015.0    1905\n",
       "2016.0    1604\n",
       "2017.0     532\n",
       "2018.0       5\n",
       "2020.0       1\n",
       "Name: count, Length: 135, dtype: int64"
      ]
     },
     "execution_count": 5,
     "metadata": {},
     "output_type": "execute_result"
    }
   ],
   "source": [
    "meta['release_date'] = pd.to_datetime(meta['release_date'], errors='coerce')\n",
    "meta['year'] = meta['release_date'].dt.year\n",
    "meta['year'].value_counts().sort_index()"
   ]
  },
  {
   "cell_type": "code",
   "execution_count": 6,
   "metadata": {
    "execution": {
     "iopub.execute_input": "2023-10-06T10:28:49.249245Z",
     "iopub.status.busy": "2023-10-06T10:28:49.248943Z",
     "iopub.status.idle": "2023-10-06T10:28:49.283448Z",
     "shell.execute_reply": "2023-10-06T10:28:49.282454Z",
     "shell.execute_reply.started": "2023-10-06T10:28:49.249220Z"
    }
   },
   "outputs": [
    {
     "data": {
      "text/html": [
       "<div>\n",
       "<style scoped>\n",
       "    .dataframe tbody tr th:only-of-type {\n",
       "        vertical-align: middle;\n",
       "    }\n",
       "\n",
       "    .dataframe tbody tr th {\n",
       "        vertical-align: top;\n",
       "    }\n",
       "\n",
       "    .dataframe thead th {\n",
       "        text-align: right;\n",
       "    }\n",
       "</style>\n",
       "<table border=\"1\" class=\"dataframe\">\n",
       "  <thead>\n",
       "    <tr style=\"text-align: right;\">\n",
       "      <th></th>\n",
       "      <th>genres</th>\n",
       "      <th>id</th>\n",
       "      <th>title</th>\n",
       "      <th>year</th>\n",
       "    </tr>\n",
       "  </thead>\n",
       "  <tbody>\n",
       "    <tr>\n",
       "      <th>0</th>\n",
       "      <td>[{'id': 16, 'name': 'Animation'}, {'id': 35, '...</td>\n",
       "      <td>862</td>\n",
       "      <td>Toy Story</td>\n",
       "      <td>1995.0</td>\n",
       "    </tr>\n",
       "    <tr>\n",
       "      <th>1</th>\n",
       "      <td>[{'id': 12, 'name': 'Adventure'}, {'id': 14, '...</td>\n",
       "      <td>8844</td>\n",
       "      <td>Jumanji</td>\n",
       "      <td>1995.0</td>\n",
       "    </tr>\n",
       "    <tr>\n",
       "      <th>2</th>\n",
       "      <td>[{'id': 10749, 'name': 'Romance'}, {'id': 35, ...</td>\n",
       "      <td>15602</td>\n",
       "      <td>Grumpier Old Men</td>\n",
       "      <td>1995.0</td>\n",
       "    </tr>\n",
       "    <tr>\n",
       "      <th>3</th>\n",
       "      <td>[{'id': 35, 'name': 'Comedy'}, {'id': 18, 'nam...</td>\n",
       "      <td>31357</td>\n",
       "      <td>Waiting to Exhale</td>\n",
       "      <td>1995.0</td>\n",
       "    </tr>\n",
       "    <tr>\n",
       "      <th>4</th>\n",
       "      <td>[{'id': 35, 'name': 'Comedy'}]</td>\n",
       "      <td>11862</td>\n",
       "      <td>Father of the Bride Part II</td>\n",
       "      <td>1995.0</td>\n",
       "    </tr>\n",
       "    <tr>\n",
       "      <th>...</th>\n",
       "      <td>...</td>\n",
       "      <td>...</td>\n",
       "      <td>...</td>\n",
       "      <td>...</td>\n",
       "    </tr>\n",
       "    <tr>\n",
       "      <th>45460</th>\n",
       "      <td>[{'id': 18, 'name': 'Drama'}, {'id': 28, 'name...</td>\n",
       "      <td>30840</td>\n",
       "      <td>Robin Hood</td>\n",
       "      <td>1991.0</td>\n",
       "    </tr>\n",
       "    <tr>\n",
       "      <th>45462</th>\n",
       "      <td>[{'id': 18, 'name': 'Drama'}]</td>\n",
       "      <td>111109</td>\n",
       "      <td>Century of Birthing</td>\n",
       "      <td>2011.0</td>\n",
       "    </tr>\n",
       "    <tr>\n",
       "      <th>45463</th>\n",
       "      <td>[{'id': 28, 'name': 'Action'}, {'id': 18, 'nam...</td>\n",
       "      <td>67758</td>\n",
       "      <td>Betrayal</td>\n",
       "      <td>2003.0</td>\n",
       "    </tr>\n",
       "    <tr>\n",
       "      <th>45464</th>\n",
       "      <td>[]</td>\n",
       "      <td>227506</td>\n",
       "      <td>Satan Triumphant</td>\n",
       "      <td>1917.0</td>\n",
       "    </tr>\n",
       "    <tr>\n",
       "      <th>45465</th>\n",
       "      <td>[]</td>\n",
       "      <td>461257</td>\n",
       "      <td>Queerama</td>\n",
       "      <td>2017.0</td>\n",
       "    </tr>\n",
       "  </tbody>\n",
       "</table>\n",
       "<p>45370 rows × 4 columns</p>\n",
       "</div>"
      ],
      "text/plain": [
       "                                                  genres      id  \\\n",
       "0      [{'id': 16, 'name': 'Animation'}, {'id': 35, '...     862   \n",
       "1      [{'id': 12, 'name': 'Adventure'}, {'id': 14, '...    8844   \n",
       "2      [{'id': 10749, 'name': 'Romance'}, {'id': 35, ...   15602   \n",
       "3      [{'id': 35, 'name': 'Comedy'}, {'id': 18, 'nam...   31357   \n",
       "4                         [{'id': 35, 'name': 'Comedy'}]   11862   \n",
       "...                                                  ...     ...   \n",
       "45460  [{'id': 18, 'name': 'Drama'}, {'id': 28, 'name...   30840   \n",
       "45462                      [{'id': 18, 'name': 'Drama'}]  111109   \n",
       "45463  [{'id': 28, 'name': 'Action'}, {'id': 18, 'nam...   67758   \n",
       "45464                                                 []  227506   \n",
       "45465                                                 []  461257   \n",
       "\n",
       "                             title    year  \n",
       "0                        Toy Story  1995.0  \n",
       "1                          Jumanji  1995.0  \n",
       "2                 Grumpier Old Men  1995.0  \n",
       "3                Waiting to Exhale  1995.0  \n",
       "4      Father of the Bride Part II  1995.0  \n",
       "...                            ...     ...  \n",
       "45460                   Robin Hood  1991.0  \n",
       "45462          Century of Birthing  2011.0  \n",
       "45463                     Betrayal  2003.0  \n",
       "45464             Satan Triumphant  1917.0  \n",
       "45465                     Queerama  2017.0  \n",
       "\n",
       "[45370 rows x 4 columns]"
      ]
     },
     "execution_count": 6,
     "metadata": {},
     "output_type": "execute_result"
    }
   ],
   "source": [
    "new_meta = meta.loc[meta.year <= 2017,['genres','id','title','year']]\n",
    "new_meta"
   ]
  },
  {
   "cell_type": "markdown",
   "metadata": {},
   "source": [
    "## 2.CLEANING DATA"
   ]
  },
  {
   "cell_type": "code",
   "execution_count": 13,
   "metadata": {
    "execution": {
     "iopub.execute_input": "2023-10-06T10:30:06.092341Z",
     "iopub.status.busy": "2023-10-06T10:30:06.091961Z",
     "iopub.status.idle": "2023-10-06T10:30:06.098032Z",
     "shell.execute_reply": "2023-10-06T10:30:06.096948Z",
     "shell.execute_reply.started": "2023-10-06T10:30:06.092309Z"
    }
   },
   "outputs": [
    {
     "name": "stdout",
     "output_type": "stream",
     "text": [
      "(45466, 25)\n"
     ]
    }
   ],
   "source": [
    "print(meta.shape)"
   ]
  },
  {
   "cell_type": "code",
   "execution_count": 14,
   "metadata": {
    "execution": {
     "iopub.execute_input": "2023-10-06T10:30:12.876573Z",
     "iopub.status.busy": "2023-10-06T10:30:12.876188Z",
     "iopub.status.idle": "2023-10-06T10:30:12.928286Z",
     "shell.execute_reply": "2023-10-06T10:30:12.927206Z",
     "shell.execute_reply.started": "2023-10-06T10:30:12.876539Z"
    }
   },
   "outputs": [
    {
     "data": {
      "text/plain": [
       "<bound method DataFrame.info of        adult                              belongs_to_collection    budget  \\\n",
       "0      False  {'id': 10194, 'name': 'Toy Story Collection', ...  30000000   \n",
       "1      False                                                NaN  65000000   \n",
       "2      False  {'id': 119050, 'name': 'Grumpy Old Men Collect...         0   \n",
       "3      False                                                NaN  16000000   \n",
       "4      False  {'id': 96871, 'name': 'Father of the Bride Col...         0   \n",
       "...      ...                                                ...       ...   \n",
       "45461  False                                                NaN         0   \n",
       "45462  False                                                NaN         0   \n",
       "45463  False                                                NaN         0   \n",
       "45464  False                                                NaN         0   \n",
       "45465  False                                                NaN         0   \n",
       "\n",
       "                                                  genres  \\\n",
       "0      [{'id': 16, 'name': 'Animation'}, {'id': 35, '...   \n",
       "1      [{'id': 12, 'name': 'Adventure'}, {'id': 14, '...   \n",
       "2      [{'id': 10749, 'name': 'Romance'}, {'id': 35, ...   \n",
       "3      [{'id': 35, 'name': 'Comedy'}, {'id': 18, 'nam...   \n",
       "4                         [{'id': 35, 'name': 'Comedy'}]   \n",
       "...                                                  ...   \n",
       "45461  [{'id': 18, 'name': 'Drama'}, {'id': 10751, 'n...   \n",
       "45462                      [{'id': 18, 'name': 'Drama'}]   \n",
       "45463  [{'id': 28, 'name': 'Action'}, {'id': 18, 'nam...   \n",
       "45464                                                 []   \n",
       "45465                                                 []   \n",
       "\n",
       "                                   homepage      id    imdb_id  \\\n",
       "0      http://toystory.disney.com/toy-story     862  tt0114709   \n",
       "1                                       NaN    8844  tt0113497   \n",
       "2                                       NaN   15602  tt0113228   \n",
       "3                                       NaN   31357  tt0114885   \n",
       "4                                       NaN   11862  tt0113041   \n",
       "...                                     ...     ...        ...   \n",
       "45461  http://www.imdb.com/title/tt6209470/  439050  tt6209470   \n",
       "45462                                   NaN  111109  tt2028550   \n",
       "45463                                   NaN   67758  tt0303758   \n",
       "45464                                   NaN  227506  tt0008536   \n",
       "45465                                   NaN  461257  tt6980792   \n",
       "\n",
       "      original_language               original_title  \\\n",
       "0                    en                    Toy Story   \n",
       "1                    en                      Jumanji   \n",
       "2                    en             Grumpier Old Men   \n",
       "3                    en            Waiting to Exhale   \n",
       "4                    en  Father of the Bride Part II   \n",
       "...                 ...                          ...   \n",
       "45461                fa                      رگ خواب   \n",
       "45462                tl          Siglo ng Pagluluwal   \n",
       "45463                en                     Betrayal   \n",
       "45464                en          Satana likuyushchiy   \n",
       "45465                en                     Queerama   \n",
       "\n",
       "                                                overview  ...      revenue  \\\n",
       "0      Led by Woody, Andy's toys live happily in his ...  ...  373554033.0   \n",
       "1      When siblings Judy and Peter discover an encha...  ...  262797249.0   \n",
       "2      A family wedding reignites the ancient feud be...  ...          0.0   \n",
       "3      Cheated on, mistreated and stepped on, the wom...  ...   81452156.0   \n",
       "4      Just when George Banks has recovered from his ...  ...   76578911.0   \n",
       "...                                                  ...  ...          ...   \n",
       "45461        Rising and falling between a man and woman.  ...          0.0   \n",
       "45462  An artist struggles to finish his work while a...  ...          0.0   \n",
       "45463  When one of her hits goes wrong, a professiona...  ...          0.0   \n",
       "45464  In a small town live two brothers, one a minis...  ...          0.0   \n",
       "45465  50 years after decriminalisation of homosexual...  ...          0.0   \n",
       "\n",
       "      runtime                                   spoken_languages    status  \\\n",
       "0        81.0           [{'iso_639_1': 'en', 'name': 'English'}]  Released   \n",
       "1       104.0  [{'iso_639_1': 'en', 'name': 'English'}, {'iso...  Released   \n",
       "2       101.0           [{'iso_639_1': 'en', 'name': 'English'}]  Released   \n",
       "3       127.0           [{'iso_639_1': 'en', 'name': 'English'}]  Released   \n",
       "4       106.0           [{'iso_639_1': 'en', 'name': 'English'}]  Released   \n",
       "...       ...                                                ...       ...   \n",
       "45461    90.0             [{'iso_639_1': 'fa', 'name': 'فارسی'}]  Released   \n",
       "45462   360.0                  [{'iso_639_1': 'tl', 'name': ''}]  Released   \n",
       "45463    90.0           [{'iso_639_1': 'en', 'name': 'English'}]  Released   \n",
       "45464    87.0                                                 []  Released   \n",
       "45465    75.0           [{'iso_639_1': 'en', 'name': 'English'}]  Released   \n",
       "\n",
       "                                                 tagline  \\\n",
       "0                                                    NaN   \n",
       "1              Roll the dice and unleash the excitement!   \n",
       "2      Still Yelling. Still Fighting. Still Ready for...   \n",
       "3      Friends are the people who let you be yourself...   \n",
       "4      Just When His World Is Back To Normal... He's ...   \n",
       "...                                                  ...   \n",
       "45461         Rising and falling between a man and woman   \n",
       "45462                                                NaN   \n",
       "45463                             A deadly game of wits.   \n",
       "45464                                                NaN   \n",
       "45465                                                NaN   \n",
       "\n",
       "                             title  video vote_average vote_count    year  \n",
       "0                        Toy Story  False          7.7     5415.0  1995.0  \n",
       "1                          Jumanji  False          6.9     2413.0  1995.0  \n",
       "2                 Grumpier Old Men  False          6.5       92.0  1995.0  \n",
       "3                Waiting to Exhale  False          6.1       34.0  1995.0  \n",
       "4      Father of the Bride Part II  False          5.7      173.0  1995.0  \n",
       "...                            ...    ...          ...        ...     ...  \n",
       "45461                       Subdue  False          4.0        1.0     NaN  \n",
       "45462          Century of Birthing  False          9.0        3.0  2011.0  \n",
       "45463                     Betrayal  False          3.8        6.0  2003.0  \n",
       "45464             Satan Triumphant  False          0.0        0.0  1917.0  \n",
       "45465                     Queerama  False          0.0        0.0  2017.0  \n",
       "\n",
       "[45466 rows x 25 columns]>"
      ]
     },
     "execution_count": 14,
     "metadata": {},
     "output_type": "execute_result"
    }
   ],
   "source": [
    "meta.info"
   ]
  },
  {
   "cell_type": "code",
   "execution_count": 15,
   "metadata": {
    "execution": {
     "iopub.execute_input": "2023-10-06T10:30:30.901677Z",
     "iopub.status.busy": "2023-10-06T10:30:30.901276Z",
     "iopub.status.idle": "2023-10-06T10:30:30.955468Z",
     "shell.execute_reply": "2023-10-06T10:30:30.954353Z",
     "shell.execute_reply.started": "2023-10-06T10:30:30.901644Z"
    }
   },
   "outputs": [
    {
     "data": {
      "text/plain": [
       "adult                        0\n",
       "belongs_to_collection    40972\n",
       "budget                       0\n",
       "genres                       0\n",
       "homepage                 37684\n",
       "id                           0\n",
       "imdb_id                     17\n",
       "original_language           11\n",
       "original_title               0\n",
       "overview                   954\n",
       "popularity                   5\n",
       "poster_path                386\n",
       "production_companies         3\n",
       "production_countries         3\n",
       "release_date                90\n",
       "revenue                      6\n",
       "runtime                    263\n",
       "spoken_languages             6\n",
       "status                      87\n",
       "tagline                  25054\n",
       "title                        6\n",
       "video                        6\n",
       "vote_average                 6\n",
       "vote_count                   6\n",
       "year                        90\n",
       "dtype: int64"
      ]
     },
     "execution_count": 15,
     "metadata": {},
     "output_type": "execute_result"
    }
   ],
   "source": [
    "meta.isnull().sum()"
   ]
  },
  {
   "cell_type": "code",
   "execution_count": 16,
   "metadata": {
    "execution": {
     "iopub.execute_input": "2023-10-06T10:30:31.563131Z",
     "iopub.status.busy": "2023-10-06T10:30:31.562458Z",
     "iopub.status.idle": "2023-10-06T10:30:31.754238Z",
     "shell.execute_reply": "2023-10-06T10:30:31.753257Z",
     "shell.execute_reply.started": "2023-10-06T10:30:31.563094Z"
    }
   },
   "outputs": [
    {
     "data": {
      "text/plain": [
       "13"
      ]
     },
     "execution_count": 16,
     "metadata": {},
     "output_type": "execute_result"
    }
   ],
   "source": [
    "meta.duplicated().sum()"
   ]
  },
  {
   "cell_type": "code",
   "execution_count": 17,
   "metadata": {
    "execution": {
     "iopub.execute_input": "2023-10-06T10:30:38.001573Z",
     "iopub.status.busy": "2023-10-06T10:30:38.001205Z",
     "iopub.status.idle": "2023-10-06T10:30:38.012235Z",
     "shell.execute_reply": "2023-10-06T10:30:38.011471Z",
     "shell.execute_reply.started": "2023-10-06T10:30:38.001544Z"
    }
   },
   "outputs": [
    {
     "data": {
      "text/plain": [
       "3188"
      ]
     },
     "execution_count": 17,
     "metadata": {},
     "output_type": "execute_result"
    }
   ],
   "source": [
    "meta.title.duplicated().sum()"
   ]
  },
  {
   "cell_type": "code",
   "execution_count": 18,
   "metadata": {
    "execution": {
     "iopub.execute_input": "2023-10-06T10:30:44.044727Z",
     "iopub.status.busy": "2023-10-06T10:30:44.043980Z",
     "iopub.status.idle": "2023-10-06T10:30:44.068575Z",
     "shell.execute_reply": "2023-10-06T10:30:44.067701Z",
     "shell.execute_reply.started": "2023-10-06T10:30:44.044690Z"
    }
   },
   "outputs": [
    {
     "data": {
      "text/plain": [
       "35"
      ]
     },
     "execution_count": 18,
     "metadata": {},
     "output_type": "execute_result"
    }
   ],
   "source": [
    "meta[[\"title\", \"release_date\"]].duplicated().sum()"
   ]
  },
  {
   "cell_type": "code",
   "execution_count": 20,
   "metadata": {
    "execution": {
     "iopub.execute_input": "2023-10-06T10:31:03.653848Z",
     "iopub.status.busy": "2023-10-06T10:31:03.652658Z",
     "iopub.status.idle": "2023-10-06T10:31:03.658108Z",
     "shell.execute_reply": "2023-10-06T10:31:03.656922Z",
     "shell.execute_reply.started": "2023-10-06T10:31:03.653809Z"
    }
   },
   "outputs": [],
   "source": [
    "df=meta"
   ]
  },
  {
   "cell_type": "code",
   "execution_count": 21,
   "metadata": {
    "execution": {
     "iopub.execute_input": "2023-10-06T10:31:05.089280Z",
     "iopub.status.busy": "2023-10-06T10:31:05.088623Z",
     "iopub.status.idle": "2023-10-06T10:31:05.142138Z",
     "shell.execute_reply": "2023-10-06T10:31:05.141449Z",
     "shell.execute_reply.started": "2023-10-06T10:31:05.089248Z"
    }
   },
   "outputs": [
    {
     "data": {
      "text/plain": [
       "index                       0\n",
       "adult                       0\n",
       "belongs_to_collection    1848\n",
       "budget                      0\n",
       "genres                      0\n",
       "homepage                 1373\n",
       "id                          0\n",
       "imdb_id                     0\n",
       "original_language           0\n",
       "original_title              0\n",
       "overview                    0\n",
       "popularity                  0\n",
       "poster_path                 0\n",
       "production_companies        0\n",
       "production_countries        0\n",
       "release_date                0\n",
       "revenue                     0\n",
       "runtime                     0\n",
       "spoken_languages            0\n",
       "status                      0\n",
       "tagline                   154\n",
       "title                       0\n",
       "video                       0\n",
       "vote_average                0\n",
       "vote_count                  0\n",
       "year                        0\n",
       "dtype: int64"
      ]
     },
     "execution_count": 21,
     "metadata": {},
     "output_type": "execute_result"
    }
   ],
   "source": [
    "df.drop_duplicates(subset=[\"title\",\"release_date\"], inplace=True)\n",
    "df = df[df.vote_count >= 350].reset_index()\n",
    "df.isnull().sum()"
   ]
  },
  {
   "cell_type": "markdown",
   "metadata": {},
   "source": []
  },
  {
   "cell_type": "code",
   "execution_count": 22,
   "metadata": {
    "execution": {
     "iopub.execute_input": "2023-10-06T10:31:08.981231Z",
     "iopub.status.busy": "2023-10-06T10:31:08.980886Z",
     "iopub.status.idle": "2023-10-06T10:31:08.995145Z",
     "shell.execute_reply": "2023-10-06T10:31:08.993941Z",
     "shell.execute_reply.started": "2023-10-06T10:31:08.981204Z"
    }
   },
   "outputs": [],
   "source": [
    "df.fillna(\"\", inplace = True)"
   ]
  },
  {
   "cell_type": "code",
   "execution_count": 23,
   "metadata": {
    "execution": {
     "iopub.execute_input": "2023-10-06T10:31:10.550198Z",
     "iopub.status.busy": "2023-10-06T10:31:10.549863Z",
     "iopub.status.idle": "2023-10-06T10:31:10.561918Z",
     "shell.execute_reply": "2023-10-06T10:31:10.560637Z",
     "shell.execute_reply.started": "2023-10-06T10:31:10.550171Z"
    }
   },
   "outputs": [],
   "source": [
    "index = df[(df.popularity == \"\") & (df.overview == \"\")].index\n",
    "df.drop(index, inplace=True)"
   ]
  },
  {
   "cell_type": "markdown",
   "metadata": {},
   "source": [
    "## 3.ANALYSING DATA"
   ]
  },
  {
   "cell_type": "code",
   "execution_count": 24,
   "metadata": {
    "execution": {
     "iopub.execute_input": "2023-10-06T10:31:15.712249Z",
     "iopub.status.busy": "2023-10-06T10:31:15.711889Z",
     "iopub.status.idle": "2023-10-06T10:31:15.717313Z",
     "shell.execute_reply": "2023-10-06T10:31:15.716268Z",
     "shell.execute_reply.started": "2023-10-06T10:31:15.712218Z"
    }
   },
   "outputs": [
    {
     "name": "stdout",
     "output_type": "stream",
     "text": [
      "(45476, 3)\n"
     ]
    }
   ],
   "source": [
    "print(data.shape)"
   ]
  },
  {
   "cell_type": "code",
   "execution_count": 25,
   "metadata": {
    "execution": {
     "iopub.execute_input": "2023-10-06T10:31:16.359700Z",
     "iopub.status.busy": "2023-10-06T10:31:16.358568Z",
     "iopub.status.idle": "2023-10-06T10:31:16.367321Z",
     "shell.execute_reply": "2023-10-06T10:31:16.366540Z",
     "shell.execute_reply.started": "2023-10-06T10:31:16.359665Z"
    }
   },
   "outputs": [
    {
     "data": {
      "text/plain": [
       "<bound method DataFrame.info of                                                     cast  \\\n",
       "0      [{'cast_id': 14, 'character': 'Woody (voice)',...   \n",
       "1      [{'cast_id': 1, 'character': 'Alan Parrish', '...   \n",
       "2      [{'cast_id': 2, 'character': 'Max Goldman', 'c...   \n",
       "3      [{'cast_id': 1, 'character': \"Savannah 'Vannah...   \n",
       "4      [{'cast_id': 1, 'character': 'George Banks', '...   \n",
       "...                                                  ...   \n",
       "45471  [{'cast_id': 0, 'character': '', 'credit_id': ...   \n",
       "45472  [{'cast_id': 1002, 'character': 'Sister Angela...   \n",
       "45473  [{'cast_id': 6, 'character': 'Emily Shaw', 'cr...   \n",
       "45474  [{'cast_id': 2, 'character': '', 'credit_id': ...   \n",
       "45475                                                 []   \n",
       "\n",
       "                                                    crew      id  \n",
       "0      [{'credit_id': '52fe4284c3a36847f8024f49', 'de...     862  \n",
       "1      [{'credit_id': '52fe44bfc3a36847f80a7cd1', 'de...    8844  \n",
       "2      [{'credit_id': '52fe466a9251416c75077a89', 'de...   15602  \n",
       "3      [{'credit_id': '52fe44779251416c91011acb', 'de...   31357  \n",
       "4      [{'credit_id': '52fe44959251416c75039ed7', 'de...   11862  \n",
       "...                                                  ...     ...  \n",
       "45471  [{'credit_id': '5894a97d925141426c00818c', 'de...  439050  \n",
       "45472  [{'credit_id': '52fe4af1c3a36847f81e9b15', 'de...  111109  \n",
       "45473  [{'credit_id': '52fe4776c3a368484e0c8387', 'de...   67758  \n",
       "45474  [{'credit_id': '533bccebc3a36844cf0011a7', 'de...  227506  \n",
       "45475  [{'credit_id': '593e676c92514105b702e68e', 'de...  461257  \n",
       "\n",
       "[45476 rows x 3 columns]>"
      ]
     },
     "execution_count": 25,
     "metadata": {},
     "output_type": "execute_result"
    }
   ],
   "source": [
    "data.info"
   ]
  },
  {
   "cell_type": "code",
   "execution_count": 26,
   "metadata": {
    "execution": {
     "iopub.execute_input": "2023-10-06T10:31:17.042280Z",
     "iopub.status.busy": "2023-10-06T10:31:17.041034Z",
     "iopub.status.idle": "2023-10-06T10:31:17.048826Z",
     "shell.execute_reply": "2023-10-06T10:31:17.047824Z",
     "shell.execute_reply.started": "2023-10-06T10:31:17.042229Z"
    }
   },
   "outputs": [],
   "source": [
    "new_df = df[[ \"title\", \"popularity\", \"id\"]]"
   ]
  },
  {
   "cell_type": "code",
   "execution_count": 27,
   "metadata": {
    "execution": {
     "iopub.execute_input": "2023-10-06T10:31:17.683003Z",
     "iopub.status.busy": "2023-10-06T10:31:17.681796Z",
     "iopub.status.idle": "2023-10-06T10:31:17.697625Z",
     "shell.execute_reply": "2023-10-06T10:31:17.696694Z",
     "shell.execute_reply.started": "2023-10-06T10:31:17.682956Z"
    }
   },
   "outputs": [
    {
     "name": "stderr",
     "output_type": "stream",
     "text": [
      "/tmp/ipykernel_32/3281198832.py:1: SettingWithCopyWarning: \n",
      "A value is trying to be set on a copy of a slice from a DataFrame.\n",
      "Try using .loc[row_indexer,col_indexer] = value instead\n",
      "\n",
      "See the caveats in the documentation: https://pandas.pydata.org/pandas-docs/stable/user_guide/indexing.html#returning-a-view-versus-a-copy\n",
      "  new_df.title = new_df.title.apply(lambda x:x.lower())\n"
     ]
    },
    {
     "data": {
      "text/html": [
       "<div>\n",
       "<style scoped>\n",
       "    .dataframe tbody tr th:only-of-type {\n",
       "        vertical-align: middle;\n",
       "    }\n",
       "\n",
       "    .dataframe tbody tr th {\n",
       "        vertical-align: top;\n",
       "    }\n",
       "\n",
       "    .dataframe thead th {\n",
       "        text-align: right;\n",
       "    }\n",
       "</style>\n",
       "<table border=\"1\" class=\"dataframe\">\n",
       "  <thead>\n",
       "    <tr style=\"text-align: right;\">\n",
       "      <th></th>\n",
       "      <th>title</th>\n",
       "      <th>popularity</th>\n",
       "      <th>id</th>\n",
       "    </tr>\n",
       "  </thead>\n",
       "  <tbody>\n",
       "    <tr>\n",
       "      <th>0</th>\n",
       "      <td>toy story</td>\n",
       "      <td>21.946943</td>\n",
       "      <td>862</td>\n",
       "    </tr>\n",
       "    <tr>\n",
       "      <th>1</th>\n",
       "      <td>jumanji</td>\n",
       "      <td>17.015539</td>\n",
       "      <td>8844</td>\n",
       "    </tr>\n",
       "    <tr>\n",
       "      <th>2</th>\n",
       "      <td>heat</td>\n",
       "      <td>17.924927</td>\n",
       "      <td>949</td>\n",
       "    </tr>\n",
       "    <tr>\n",
       "      <th>3</th>\n",
       "      <td>goldeneye</td>\n",
       "      <td>14.686036</td>\n",
       "      <td>710</td>\n",
       "    </tr>\n",
       "    <tr>\n",
       "      <th>4</th>\n",
       "      <td>balto</td>\n",
       "      <td>12.140733</td>\n",
       "      <td>21032</td>\n",
       "    </tr>\n",
       "  </tbody>\n",
       "</table>\n",
       "</div>"
      ],
      "text/plain": [
       "       title popularity     id\n",
       "0  toy story  21.946943    862\n",
       "1    jumanji  17.015539   8844\n",
       "2       heat  17.924927    949\n",
       "3  goldeneye  14.686036    710\n",
       "4      balto  12.140733  21032"
      ]
     },
     "execution_count": 27,
     "metadata": {},
     "output_type": "execute_result"
    }
   ],
   "source": [
    "new_df.title = new_df.title.apply(lambda x:x.lower())\n",
    "new_df.head()"
   ]
  },
  {
   "cell_type": "code",
   "execution_count": 28,
   "metadata": {
    "execution": {
     "iopub.execute_input": "2023-10-06T10:31:18.372347Z",
     "iopub.status.busy": "2023-10-06T10:31:18.371357Z",
     "iopub.status.idle": "2023-10-06T10:31:19.593680Z",
     "shell.execute_reply": "2023-10-06T10:31:19.592527Z",
     "shell.execute_reply.started": "2023-10-06T10:31:18.372314Z"
    }
   },
   "outputs": [],
   "source": [
    "import nltk\n",
    "from nltk.stem.porter import PorterStemmer\n",
    "ps = PorterStemmer()"
   ]
  },
  {
   "cell_type": "code",
   "execution_count": 29,
   "metadata": {
    "execution": {
     "iopub.execute_input": "2023-10-06T10:31:19.595753Z",
     "iopub.status.busy": "2023-10-06T10:31:19.595411Z",
     "iopub.status.idle": "2023-10-06T10:31:19.600739Z",
     "shell.execute_reply": "2023-10-06T10:31:19.599666Z",
     "shell.execute_reply.started": "2023-10-06T10:31:19.595724Z"
    }
   },
   "outputs": [],
   "source": [
    "def stem(text):\n",
    "    y = []\n",
    "    for i in text.split():\n",
    "        y.append(ps.stem(i))\n",
    "    \n",
    "    return \" \".join(y)    "
   ]
  },
  {
   "cell_type": "code",
   "execution_count": 30,
   "metadata": {
    "execution": {
     "iopub.execute_input": "2023-10-06T10:31:22.051020Z",
     "iopub.status.busy": "2023-10-06T10:31:22.050608Z",
     "iopub.status.idle": "2023-10-06T10:31:22.193777Z",
     "shell.execute_reply": "2023-10-06T10:31:22.192592Z",
     "shell.execute_reply.started": "2023-10-06T10:31:22.050988Z"
    }
   },
   "outputs": [
    {
     "name": "stderr",
     "output_type": "stream",
     "text": [
      "/tmp/ipykernel_32/2577964674.py:1: SettingWithCopyWarning: \n",
      "A value is trying to be set on a copy of a slice from a DataFrame.\n",
      "Try using .loc[row_indexer,col_indexer] = value instead\n",
      "\n",
      "See the caveats in the documentation: https://pandas.pydata.org/pandas-docs/stable/user_guide/indexing.html#returning-a-view-versus-a-copy\n",
      "  new_df[\"title\"] = new_df[\"title\"].apply(stem)\n"
     ]
    }
   ],
   "source": [
    "new_df[\"title\"] = new_df[\"title\"].apply(stem)"
   ]
  },
  {
   "cell_type": "code",
   "execution_count": 31,
   "metadata": {
    "execution": {
     "iopub.execute_input": "2023-10-06T10:31:22.954339Z",
     "iopub.status.busy": "2023-10-06T10:31:22.953668Z",
     "iopub.status.idle": "2023-10-06T10:31:22.967556Z",
     "shell.execute_reply": "2023-10-06T10:31:22.966182Z",
     "shell.execute_reply.started": "2023-10-06T10:31:22.954295Z"
    }
   },
   "outputs": [],
   "source": [
    "index = df[(df.popularity == \"\") & (df.overview == \"\")].index\n",
    "df.drop(index, inplace=True)"
   ]
  },
  {
   "cell_type": "code",
   "execution_count": 32,
   "metadata": {
    "execution": {
     "iopub.execute_input": "2023-10-06T10:31:24.771052Z",
     "iopub.status.busy": "2023-10-06T10:31:24.770682Z",
     "iopub.status.idle": "2023-10-06T10:31:24.783808Z",
     "shell.execute_reply": "2023-10-06T10:31:24.782638Z",
     "shell.execute_reply.started": "2023-10-06T10:31:24.771024Z"
    }
   },
   "outputs": [
    {
     "data": {
      "text/plain": [
       "title\n",
       "Beauty and the Beast           3\n",
       "The Jungle Book                2\n",
       "Dawn of the Dead               2\n",
       "RoboCop                        2\n",
       "Oldboy                         2\n",
       "                              ..\n",
       "Runaway Jury                   1\n",
       "The Texas Chainsaw Massacre    1\n",
       "Scary Movie 3                  1\n",
       "Brother Bear                   1\n",
       "Girls Trip                     1\n",
       "Name: count, Length: 2674, dtype: int64"
      ]
     },
     "execution_count": 32,
     "metadata": {},
     "output_type": "execute_result"
    }
   ],
   "source": [
    "indices = pd.Series(df.index, index=df['title'])\n",
    "\n",
    "indices.index.value_counts()"
   ]
  },
  {
   "cell_type": "code",
   "execution_count": 33,
   "metadata": {
    "execution": {
     "iopub.execute_input": "2023-10-06T10:31:25.432736Z",
     "iopub.status.busy": "2023-10-06T10:31:25.432397Z",
     "iopub.status.idle": "2023-10-06T10:31:25.440291Z",
     "shell.execute_reply": "2023-10-06T10:31:25.439279Z",
     "shell.execute_reply.started": "2023-10-06T10:31:25.432710Z"
    }
   },
   "outputs": [
    {
     "data": {
      "text/plain": [
       "2376"
      ]
     },
     "execution_count": 33,
     "metadata": {},
     "output_type": "execute_result"
    }
   ],
   "source": [
    "indices = indices[~indices.index.duplicated(keep='last')]\n",
    "\n",
    "indices[\"Cinderella\"]"
   ]
  },
  {
   "cell_type": "markdown",
   "metadata": {},
   "source": [
    "## 4.DATA UNDERSTANDING "
   ]
  },
  {
   "cell_type": "code",
   "execution_count": 54,
   "metadata": {
    "execution": {
     "iopub.execute_input": "2023-10-06T10:35:01.773599Z",
     "iopub.status.busy": "2023-10-06T10:35:01.773232Z",
     "iopub.status.idle": "2023-10-06T10:35:01.826925Z",
     "shell.execute_reply": "2023-10-06T10:35:01.825839Z",
     "shell.execute_reply.started": "2023-10-06T10:35:01.773572Z"
    }
   },
   "outputs": [
    {
     "name": "stdout",
     "output_type": "stream",
     "text": [
      "------------------------------- SHAPE --------------------------------\n",
      "Rows: 2710\n",
      "Columns: 26\n",
      "------------------------------- TYPES --------------------------------\n",
      "index                             int64\n",
      "adult                            object\n",
      "belongs_to_collection            object\n",
      "budget                           object\n",
      "genres                           object\n",
      "homepage                         object\n",
      "id                               object\n",
      "imdb_id                          object\n",
      "original_language                object\n",
      "original_title                   object\n",
      "overview                         object\n",
      "popularity                       object\n",
      "poster_path                      object\n",
      "production_companies             object\n",
      "production_countries             object\n",
      "release_date             datetime64[ns]\n",
      "revenue                         float64\n",
      "runtime                         float64\n",
      "spoken_languages                 object\n",
      "status                           object\n",
      "tagline                          object\n",
      "title                            object\n",
      "video                              bool\n",
      "vote_average                    float64\n",
      "vote_count                      float64\n",
      "year                            float64\n",
      "dtype: object\n",
      "--------------------------- MISSING VALUES ---------------------------\n",
      "index                    0\n",
      "adult                    0\n",
      "belongs_to_collection    0\n",
      "budget                   0\n",
      "genres                   0\n",
      "homepage                 0\n",
      "id                       0\n",
      "imdb_id                  0\n",
      "original_language        0\n",
      "original_title           0\n",
      "overview                 0\n",
      "popularity               0\n",
      "poster_path              0\n",
      "production_companies     0\n",
      "production_countries     0\n",
      "release_date             0\n",
      "revenue                  0\n",
      "runtime                  0\n",
      "spoken_languages         0\n",
      "status                   0\n",
      "tagline                  0\n",
      "title                    0\n",
      "video                    0\n",
      "vote_average             0\n",
      "vote_count               0\n",
      "year                     0\n",
      "dtype: int64\n",
      "------------------------- DUPLICATED VALUES --------------------------\n",
      "0\n",
      "------------------------------ DESCRIBE ------------------------------\n",
      "               count                           mean                  min                  25%                  50%                  75%                  max               std\n",
      "index         2710.0                   14047.771218                  0.0              3889.25              12279.0             20782.75              45204.0      11235.844132\n",
      "release_date    2710  2004-02-11 14:23:59.999999872  1921-01-21 00:00:00  1999-10-20 12:00:00  2007-11-17 12:00:00  2013-03-07 18:00:00  2017-08-18 00:00:00               NaN\n",
      "revenue       2710.0               155175139.123616                  0.0          26566917.75           86378836.0          193668328.0         2787965087.0  212493191.542318\n",
      "runtime       2710.0                     111.069004                  3.0                 97.0                108.0                122.0                705.0          24.16594\n",
      "vote_average  2710.0                       6.578192                  2.9                  6.0                  6.6                  7.2                  9.1          0.792429\n",
      "vote_count    2710.0                    1390.001845                350.0                508.0                830.0               1595.0              14075.0       1503.974549\n",
      "year          2710.0                    2003.571218               1921.0               1999.0               2007.0               2013.0               2017.0         13.221454\n"
     ]
    }
   ],
   "source": [
    "def check_df(dataframe, head=5):\n",
    "    print(\" SHAPE \".center(70,'-'))\n",
    "    print('Rows: {}'.format(dataframe.shape[0]))\n",
    "    print('Columns: {}'.format(dataframe.shape[1]))\n",
    "    print(\" TYPES \".center(70,'-'))\n",
    "    print(dataframe.dtypes)\n",
    "    print(\" MISSING VALUES \".center(70,'-'))\n",
    "    print(dataframe.isnull().sum())\n",
    "    print(\" DUPLICATED VALUES \".center(70,'-'))\n",
    "    print(dataframe.duplicated().sum())\n",
    "    print(\" DESCRIBE \".center(70,'-'))\n",
    "    print(dataframe.describe().T)\n",
    "    \n",
    "check_df(df)"
   ]
  },
  {
   "cell_type": "code",
   "execution_count": 55,
   "metadata": {
    "execution": {
     "iopub.execute_input": "2023-10-06T10:35:21.549056Z",
     "iopub.status.busy": "2023-10-06T10:35:21.548689Z",
     "iopub.status.idle": "2023-10-06T10:35:21.556893Z",
     "shell.execute_reply": "2023-10-06T10:35:21.555818Z",
     "shell.execute_reply.started": "2023-10-06T10:35:21.549027Z"
    }
   },
   "outputs": [
    {
     "data": {
      "text/plain": [
       "0    Led by Woody, Andy's toys live happily in his ...\n",
       "1    When siblings Judy and Peter discover an encha...\n",
       "2    Obsessive master thief, Neil McCauley leads a ...\n",
       "3    James Bond must unmask the mysterious head of ...\n",
       "4    An outcast half-wolf risks his life to prevent...\n",
       "Name: overview, dtype: object"
      ]
     },
     "execution_count": 55,
     "metadata": {},
     "output_type": "execute_result"
    }
   ],
   "source": [
    "df[\"overview\"].head()"
   ]
  },
  {
   "cell_type": "code",
   "execution_count": 57,
   "metadata": {
    "execution": {
     "iopub.execute_input": "2023-10-06T10:36:05.429892Z",
     "iopub.status.busy": "2023-10-06T10:36:05.429508Z",
     "iopub.status.idle": "2023-10-06T10:36:05.439650Z",
     "shell.execute_reply": "2023-10-06T10:36:05.438212Z",
     "shell.execute_reply.started": "2023-10-06T10:36:05.429861Z"
    }
   },
   "outputs": [
    {
     "data": {
      "text/plain": [
       "0"
      ]
     },
     "execution_count": 57,
     "metadata": {},
     "output_type": "execute_result"
    }
   ],
   "source": [
    "tfidf = TfidfVectorizer(stop_words=\"english\")\n",
    "\n",
    "df['overview'] = df['overview'].fillna('')\n",
    "df['overview'].isnull().sum()"
   ]
  },
  {
   "cell_type": "code",
   "execution_count": 58,
   "metadata": {
    "execution": {
     "iopub.execute_input": "2023-10-06T10:36:23.093771Z",
     "iopub.status.busy": "2023-10-06T10:36:23.093362Z",
     "iopub.status.idle": "2023-10-06T10:36:23.255761Z",
     "shell.execute_reply": "2023-10-06T10:36:23.254797Z",
     "shell.execute_reply.started": "2023-10-06T10:36:23.093743Z"
    }
   },
   "outputs": [
    {
     "data": {
      "text/plain": [
       "(2710, 15005)"
      ]
     },
     "execution_count": 58,
     "metadata": {},
     "output_type": "execute_result"
    }
   ],
   "source": [
    "tfidf_matrix = tfidf.fit_transform(df['overview'])\n",
    "tfidf_matrix.shape\n"
   ]
  },
  {
   "cell_type": "code",
   "execution_count": 59,
   "metadata": {
    "execution": {
     "iopub.execute_input": "2023-10-06T10:36:41.869162Z",
     "iopub.status.busy": "2023-10-06T10:36:41.868781Z",
     "iopub.status.idle": "2023-10-06T10:36:42.169501Z",
     "shell.execute_reply": "2023-10-06T10:36:42.168478Z",
     "shell.execute_reply.started": "2023-10-06T10:36:41.869129Z"
    }
   },
   "outputs": [
    {
     "data": {
      "text/plain": [
       "array([[0., 0., 0., ..., 0., 0., 0.],\n",
       "       [0., 0., 0., ..., 0., 0., 0.],\n",
       "       [0., 0., 0., ..., 0., 0., 0.],\n",
       "       ...,\n",
       "       [0., 0., 0., ..., 0., 0., 0.],\n",
       "       [0., 0., 0., ..., 0., 0., 0.],\n",
       "       [0., 0., 0., ..., 0., 0., 0.]])"
      ]
     },
     "execution_count": 59,
     "metadata": {},
     "output_type": "execute_result"
    }
   ],
   "source": [
    "tfidf_matrix.toarray()\n"
   ]
  },
  {
   "cell_type": "markdown",
   "metadata": {},
   "source": [
    "## 5.Cosine Smilarity matrix"
   ]
  },
  {
   "cell_type": "code",
   "execution_count": 60,
   "metadata": {
    "execution": {
     "iopub.execute_input": "2023-10-06T10:37:00.895207Z",
     "iopub.status.busy": "2023-10-06T10:37:00.894858Z",
     "iopub.status.idle": "2023-10-06T10:37:01.056240Z",
     "shell.execute_reply": "2023-10-06T10:37:01.055327Z",
     "shell.execute_reply.started": "2023-10-06T10:37:00.895181Z"
    }
   },
   "outputs": [
    {
     "data": {
      "text/plain": [
       "(2710, 2710)"
      ]
     },
     "execution_count": 60,
     "metadata": {},
     "output_type": "execute_result"
    }
   ],
   "source": [
    "cosine_sim = cosine_similarity(tfidf_matrix, tfidf_matrix)\n",
    "\n",
    "cosine_sim.shape"
   ]
  },
  {
   "cell_type": "code",
   "execution_count": 61,
   "metadata": {
    "execution": {
     "iopub.execute_input": "2023-10-06T10:37:04.085870Z",
     "iopub.status.busy": "2023-10-06T10:37:04.084950Z",
     "iopub.status.idle": "2023-10-06T10:37:04.092637Z",
     "shell.execute_reply": "2023-10-06T10:37:04.091475Z",
     "shell.execute_reply.started": "2023-10-06T10:37:04.085834Z"
    }
   },
   "outputs": [
    {
     "data": {
      "text/plain": [
       "array([0.01878207, 1.        , 0.05166867, ..., 0.        , 0.01141582,\n",
       "       0.        ])"
      ]
     },
     "execution_count": 61,
     "metadata": {},
     "output_type": "execute_result"
    }
   ],
   "source": [
    "cosine_sim[1]"
   ]
  },
  {
   "cell_type": "code",
   "execution_count": 62,
   "metadata": {
    "execution": {
     "iopub.execute_input": "2023-10-06T10:37:44.531950Z",
     "iopub.status.busy": "2023-10-06T10:37:44.531039Z",
     "iopub.status.idle": "2023-10-06T10:37:44.542971Z",
     "shell.execute_reply": "2023-10-06T10:37:44.541978Z",
     "shell.execute_reply.started": "2023-10-06T10:37:44.531914Z"
    }
   },
   "outputs": [
    {
     "data": {
      "text/plain": [
       "title\n",
       "Beauty and the Beast           3\n",
       "The Jungle Book                2\n",
       "Dawn of the Dead               2\n",
       "RoboCop                        2\n",
       "Oldboy                         2\n",
       "                              ..\n",
       "Runaway Jury                   1\n",
       "The Texas Chainsaw Massacre    1\n",
       "Scary Movie 3                  1\n",
       "Brother Bear                   1\n",
       "Girls Trip                     1\n",
       "Name: count, Length: 2674, dtype: int64"
      ]
     },
     "execution_count": 62,
     "metadata": {},
     "output_type": "execute_result"
    }
   ],
   "source": [
    "indices = pd.Series(df.index, index=df['title'])\n",
    "\n",
    "indices.index.value_counts()"
   ]
  },
  {
   "cell_type": "markdown",
   "metadata": {},
   "source": [
    "## 6.RECOMMENDATION BASED ON SIMILARITIES"
   ]
  },
  {
   "cell_type": "code",
   "execution_count": 63,
   "metadata": {
    "execution": {
     "iopub.execute_input": "2023-10-06T10:37:56.541749Z",
     "iopub.status.busy": "2023-10-06T10:37:56.541370Z",
     "iopub.status.idle": "2023-10-06T10:37:56.550221Z",
     "shell.execute_reply": "2023-10-06T10:37:56.549293Z",
     "shell.execute_reply.started": "2023-10-06T10:37:56.541722Z"
    }
   },
   "outputs": [
    {
     "data": {
      "text/plain": [
       "2376"
      ]
     },
     "execution_count": 63,
     "metadata": {},
     "output_type": "execute_result"
    }
   ],
   "source": [
    "indices = indices[~indices.index.duplicated(keep='last')]\n",
    "\n",
    "indices[\"Cinderella\"]"
   ]
  },
  {
   "cell_type": "code",
   "execution_count": 64,
   "metadata": {
    "execution": {
     "iopub.execute_input": "2023-10-06T10:37:58.284977Z",
     "iopub.status.busy": "2023-10-06T10:37:58.284595Z",
     "iopub.status.idle": "2023-10-06T10:37:58.296889Z",
     "shell.execute_reply": "2023-10-06T10:37:58.295793Z",
     "shell.execute_reply.started": "2023-10-06T10:37:58.284938Z"
    }
   },
   "outputs": [
    {
     "data": {
      "text/html": [
       "<div>\n",
       "<style scoped>\n",
       "    .dataframe tbody tr th:only-of-type {\n",
       "        vertical-align: middle;\n",
       "    }\n",
       "\n",
       "    .dataframe tbody tr th {\n",
       "        vertical-align: top;\n",
       "    }\n",
       "\n",
       "    .dataframe thead th {\n",
       "        text-align: right;\n",
       "    }\n",
       "</style>\n",
       "<table border=\"1\" class=\"dataframe\">\n",
       "  <thead>\n",
       "    <tr style=\"text-align: right;\">\n",
       "      <th></th>\n",
       "      <th>score</th>\n",
       "    </tr>\n",
       "  </thead>\n",
       "  <tbody>\n",
       "    <tr>\n",
       "      <th>0</th>\n",
       "      <td>0.000000</td>\n",
       "    </tr>\n",
       "    <tr>\n",
       "      <th>1</th>\n",
       "      <td>0.000000</td>\n",
       "    </tr>\n",
       "    <tr>\n",
       "      <th>2</th>\n",
       "      <td>0.029562</td>\n",
       "    </tr>\n",
       "    <tr>\n",
       "      <th>3</th>\n",
       "      <td>0.000000</td>\n",
       "    </tr>\n",
       "    <tr>\n",
       "      <th>4</th>\n",
       "      <td>0.043574</td>\n",
       "    </tr>\n",
       "    <tr>\n",
       "      <th>...</th>\n",
       "      <td>...</td>\n",
       "    </tr>\n",
       "    <tr>\n",
       "      <th>2705</th>\n",
       "      <td>0.021469</td>\n",
       "    </tr>\n",
       "    <tr>\n",
       "      <th>2706</th>\n",
       "      <td>0.000000</td>\n",
       "    </tr>\n",
       "    <tr>\n",
       "      <th>2707</th>\n",
       "      <td>0.000000</td>\n",
       "    </tr>\n",
       "    <tr>\n",
       "      <th>2708</th>\n",
       "      <td>0.039794</td>\n",
       "    </tr>\n",
       "    <tr>\n",
       "      <th>2709</th>\n",
       "      <td>0.015642</td>\n",
       "    </tr>\n",
       "  </tbody>\n",
       "</table>\n",
       "<p>2710 rows × 1 columns</p>\n",
       "</div>"
      ],
      "text/plain": [
       "         score\n",
       "0     0.000000\n",
       "1     0.000000\n",
       "2     0.029562\n",
       "3     0.000000\n",
       "4     0.043574\n",
       "...        ...\n",
       "2705  0.021469\n",
       "2706  0.000000\n",
       "2707  0.000000\n",
       "2708  0.039794\n",
       "2709  0.015642\n",
       "\n",
       "[2710 rows x 1 columns]"
      ]
     },
     "execution_count": 64,
     "metadata": {},
     "output_type": "execute_result"
    }
   ],
   "source": [
    "movie_index = indices['Sherlock Holmes']\n",
    "\n",
    "similarity_scores = pd.DataFrame(cosine_sim[movie_index],\n",
    "                                 columns=[\"score\"])\n",
    "\n",
    "similarity_scores\n"
   ]
  },
  {
   "cell_type": "code",
   "execution_count": 65,
   "metadata": {
    "execution": {
     "iopub.execute_input": "2023-10-06T10:38:16.286446Z",
     "iopub.status.busy": "2023-10-06T10:38:16.286068Z",
     "iopub.status.idle": "2023-10-06T10:38:16.297597Z",
     "shell.execute_reply": "2023-10-06T10:38:16.296437Z",
     "shell.execute_reply.started": "2023-10-06T10:38:16.286408Z"
    }
   },
   "outputs": [
    {
     "data": {
      "text/plain": [
       "2425                            Mr. Holmes\n",
       "2634                               Inferno\n",
       "1851    Sherlock Holmes: A Game of Shadows\n",
       "148                     The Maltese Falcon\n",
       "1190                        The Lake House\n",
       "93               Robin Hood: Men in Tights\n",
       "2198                        Brick Mansions\n",
       "2334                    Terminator Genisys\n",
       "34              Die Hard: With a Vengeance\n",
       "2605                 The Edge of Seventeen\n",
       "Name: title, dtype: object"
      ]
     },
     "execution_count": 65,
     "metadata": {},
     "output_type": "execute_result"
    }
   ],
   "source": [
    "movie_indices = similarity_scores.sort_values(\"score\", ascending=False)[1:11].index\n",
    "\n",
    "df['title'].iloc[movie_indices]"
   ]
  },
  {
   "cell_type": "code",
   "execution_count": 66,
   "metadata": {
    "execution": {
     "iopub.execute_input": "2023-10-06T10:38:19.750312Z",
     "iopub.status.busy": "2023-10-06T10:38:19.749982Z",
     "iopub.status.idle": "2023-10-06T10:38:19.763029Z",
     "shell.execute_reply": "2023-10-06T10:38:19.762220Z",
     "shell.execute_reply.started": "2023-10-06T10:38:19.750287Z"
    }
   },
   "outputs": [
    {
     "data": {
      "text/plain": [
       "2425                            Mr. Holmes\n",
       "2634                               Inferno\n",
       "1851    Sherlock Holmes: A Game of Shadows\n",
       "148                     The Maltese Falcon\n",
       "1190                        The Lake House\n",
       "93               Robin Hood: Men in Tights\n",
       "2198                        Brick Mansions\n",
       "2334                    Terminator Genisys\n",
       "34              Die Hard: With a Vengeance\n",
       "2605                 The Edge of Seventeen\n",
       "Name: title, dtype: object"
      ]
     },
     "execution_count": 66,
     "metadata": {},
     "output_type": "execute_result"
    }
   ],
   "source": [
    "def content_based_recommender(title, cosine_sim, dataframe):\n",
    "\n",
    "    indices = pd.Series(dataframe.index, index=dataframe['title'])\n",
    "    indices = indices[~indices.index.duplicated(keep='last')]\n",
    "    \n",
    "    movie_index = indices[title]\n",
    "   \n",
    "    similarity_scores = pd.DataFrame(cosine_sim[movie_index], columns=[\"score\"])\n",
    "    \n",
    "    movie_indices = similarity_scores.sort_values(\"score\", ascending=False)[1:11].index\n",
    "    return dataframe['title'].iloc[movie_indices]\n",
    "\n",
    "content_based_recommender(\"Sherlock Holmes\", cosine_sim, df)"
   ]
  },
  {
   "cell_type": "code",
   "execution_count": 67,
   "metadata": {
    "execution": {
     "iopub.execute_input": "2023-10-06T10:38:23.349973Z",
     "iopub.status.busy": "2023-10-06T10:38:23.349605Z",
     "iopub.status.idle": "2023-10-06T10:38:23.359872Z",
     "shell.execute_reply": "2023-10-06T10:38:23.358846Z",
     "shell.execute_reply.started": "2023-10-06T10:38:23.349936Z"
    }
   },
   "outputs": [
    {
     "data": {
      "text/plain": [
       "35                     Hackers\n",
       "2265                  Who Am I\n",
       "894                   Commando\n",
       "1046             The Animatrix\n",
       "1573                    Avatar\n",
       "2193             Transcendence\n",
       "2168          The Zero Theorem\n",
       "1371    Step Up 2: The Streets\n",
       "1297     Live Free or Die Hard\n",
       "2410         The Green Inferno\n",
       "Name: title, dtype: object"
      ]
     },
     "execution_count": 67,
     "metadata": {},
     "output_type": "execute_result"
    }
   ],
   "source": [
    "content_based_recommender(\"The Matrix\", cosine_sim, df)"
   ]
  },
  {
   "cell_type": "code",
   "execution_count": 68,
   "metadata": {
    "execution": {
     "iopub.execute_input": "2023-10-06T10:38:25.908772Z",
     "iopub.status.busy": "2023-10-06T10:38:25.908434Z",
     "iopub.status.idle": "2023-10-06T10:38:25.919733Z",
     "shell.execute_reply": "2023-10-06T10:38:25.918533Z",
     "shell.execute_reply.started": "2023-10-06T10:38:25.908748Z"
    }
   },
   "outputs": [
    {
     "data": {
      "text/plain": [
       "212      The Godfather: Part II\n",
       "2648              Live by Night\n",
       "390     The Godfather: Part III\n",
       "1958                   Sinister\n",
       "803           Road to Perdition\n",
       "1296         Death at a Funeral\n",
       "407           The Addams Family\n",
       "2340                    Ben-Hur\n",
       "787                    Rashomon\n",
       "2640                       Lion\n",
       "Name: title, dtype: object"
      ]
     },
     "execution_count": 68,
     "metadata": {},
     "output_type": "execute_result"
    }
   ],
   "source": [
    "content_based_recommender(\"The Godfather\", cosine_sim, df)"
   ]
  },
  {
   "cell_type": "code",
   "execution_count": 49,
   "metadata": {
    "execution": {
     "iopub.execute_input": "2023-10-06T10:32:55.219069Z",
     "iopub.status.busy": "2023-10-06T10:32:55.218713Z",
     "iopub.status.idle": "2023-10-06T10:32:55.225130Z",
     "shell.execute_reply": "2023-10-06T10:32:55.224085Z",
     "shell.execute_reply.started": "2023-10-06T10:32:55.219042Z"
    }
   },
   "outputs": [],
   "source": [
    "def calculate_cosine_sim(dataframe):\n",
    "    tfidf = TfidfVectorizer(stop_words='english')\n",
    "    dataframe['overview'] = dataframe['overview'].fillna('')\n",
    "    tfidf_matrix = tfidf.fit_transform(dataframe['overview'])\n",
    "    cosine_sim = cosine_similarity(tfidf_matrix, tfidf_matrix)\n",
    "    return cosine_sim"
   ]
  },
  {
   "cell_type": "code",
   "execution_count": null,
   "metadata": {},
   "outputs": [],
   "source": []
  }
 ],
 "metadata": {
  "kernelspec": {
   "display_name": "Python 3 (ipykernel)",
   "language": "python",
   "name": "python3"
  },
  "language_info": {
   "codemirror_mode": {
    "name": "ipython",
    "version": 3
   },
   "file_extension": ".py",
   "mimetype": "text/x-python",
   "name": "python",
   "nbconvert_exporter": "python",
   "pygments_lexer": "ipython3",
   "version": "3.11.5"
  }
 },
 "nbformat": 4,
 "nbformat_minor": 4
}
